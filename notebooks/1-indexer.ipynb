{
 "cells": [
  {
   "cell_type": "markdown",
   "metadata": {},
   "source": [
    "# Assignment #1: Building an inverted index"
   ]
  },
  {
   "cell_type": "markdown",
   "metadata": {},
   "source": [
    "## Objectives"
   ]
  },
  {
   "cell_type": "markdown",
   "metadata": {},
   "source": [
    "The objectives of this assignment are to:\n",
    "* Write a program that collects all the words from a set of documents\n",
    "* Build an index from the words\n",
    "* Represent a document using the Tf.Idf value\n",
    "* Write a short report of 1 to 2 pages on the assignment\n",
    "* Read a short text on an industrial system"
   ]
  },
  {
   "cell_type": "markdown",
   "metadata": {},
   "source": [
    "## Description"
   ]
  },
  {
   "cell_type": "markdown",
   "metadata": {},
   "source": [
    "### Outline"
   ]
  },
  {
   "cell_type": "markdown",
   "metadata": {},
   "source": [
    "Conceptually, an index consists of rows with one word per row and and the list of files and positions, where this word occurs. Such a row is called a _posting list_. You will encode the position of a word by the number of characters from the start of the file.\n",
    "<pre>\n",
    "word1: file_name pos1 pos2 pos3... file_name pos1 pos2 ...\n",
    "word2: file_name pos1 pos2 pos3... file_name pos1 pos2 ...\n",
    "...\n",
    "</pre>"
   ]
  },
  {
   "cell_type": "markdown",
   "metadata": {},
   "source": [
    "### Preparation"
   ]
  },
  {
   "cell_type": "markdown",
   "metadata": {},
   "source": [
    "<p>You will create an index for a corpus of Selma Lagerlöf's works:</p>\n",
    "<ol>\n",
    "            <li>Download the <a href=\"https://github.com/pnugues/ilppp/raw/master/programs/corpus/Selma.zip\">Selma\n",
    "                folder</a> and uncompress it. It contains novels by <a href=\"https://sv.wikipedia.org/wiki/Selma_Lagerl%C3%B6f\">\n",
    "                Selma Lagerlöf</a>. The text of these novels was extracted\n",
    "                from <a href=\"https://litteraturbanken.se/forfattare/LagerlofS/titlar\">Lagerlöf arkivet</a> at\n",
    "                <a href=\"https://litteraturbanken.se/\">Litteraturbanken</a>.\n",
    "            </li>\n",
    "            <li>Read the description of the tf-idf measure on Wikipedia\n",
    "                (<a href=\"https://en.wikipedia.org/wiki/Tf%E2%80%93idf\">https://en.wikipedia.org/wiki/Tf-idf</a>).\n",
    "            </li>\n",
    "</ol>"
   ]
  },
  {
   "cell_type": "markdown",
   "metadata": {},
   "source": [
    "### Running the Indexer"
   ]
  },
  {
   "cell_type": "markdown",
   "metadata": {},
   "source": [
    "Your final program will take a corpus as input (here the Selma novels) and produce an index of all the words with their positions. you should be able to run it this way:\n",
    "<pre>$ python indexer.py folder_name</pre>\n",
    "In this lab, you will write it in a Jupyter Notebook. The conversion into a Python program is left as an optional exercise."
   ]
  },
  {
   "cell_type": "markdown",
   "metadata": {},
   "source": [
    "## Programming the Indexer"
   ]
  },
  {
   "cell_type": "markdown",
   "metadata": {},
   "source": [
    "To make programming easier, you will split this exercise into five steps:\n",
    "1. Index one file;\n",
    "2. Read the content of a folder\n",
    "3. Create a master index for all the files\n",
    "4. Use tfidf to represent the documents (novels)\n",
    "5. Compare the documents of a collection\n",
    "\n",
    "You will use dictionaries to represent the postings."
   ]
  },
  {
   "cell_type": "markdown",
   "metadata": {},
   "source": [
    "### Indexing one file"
   ]
  },
  {
   "cell_type": "markdown",
   "metadata": {},
   "source": [
    "#### Description"
   ]
  },
  {
   "cell_type": "markdown",
   "metadata": {},
   "source": [
    "<p>Write a program that reads one document <tt>file_name.txt</tt> and outputs an index file:\n",
    "            <tt>file_name.idx</tt>:\n",
    "        </p>\n",
    "        <ol>\n",
    "            <li>The index file will contain all the unique words in the document,\n",
    "                where each word is associated with the list of its positions in the document.\n",
    "            </li>\n",
    "            <li>You will represent this index as a dictionary, where the keys will be the words, and\n",
    "                the values, the lists of positions\n",
    "            </li>\n",
    "            <li>As words, you will consider all the strings of letters that you will set in lower case.\n",
    "                You will not index the rest (i.e. numbers, punctuations, or symbols).\n",
    "            </li>\n",
    "            <li>To extract the words, you will use Unicode regular expressions. Do not use <tt>\\w+</tt>,\n",
    "                for instance, but the Unicode equivalent.\n",
    "            </li>\n",
    "            <li>The word positions will correspond to the number of characters from the beginning of the file.\n",
    "                (The word offset from the beginning)\n",
    "            </li>\n",
    "            <li>You will use <tt>finditer()</tt> to find the positions of the words.\n",
    "                This will return you match objects,\n",
    "                where you will get the matches and the positions with\n",
    "                the <tt>group()</tt> and <tt>start()</tt> methods.\n",
    "            </li>\n",
    "            <li>You will use the pickle package to write your dictionary in an file,\n",
    "                see <a href=\"https://wiki.python.org/moin/UsingPickle\">https://wiki.python.org/moin/UsingPickle</a>.\n",
    "            </li>\n",
    "        </ol>"
   ]
  },
  {
   "cell_type": "markdown",
   "metadata": {},
   "source": [
    "<p>Below is an excerpt of the index of the bannlyst text for the words <i>gjord</i>, <i>uppklarnande</i>, and\n",
    "            <i>stjärnor</i>. The data is stored in a dictionary:\n",
    "        </p>\n",
    "        <pre>\n",
    "{...\n",
    "'gjord': [8600, 183039, 220445],\n",
    "'uppklarnande': [8617],\n",
    "'stjärnor': [8641], ...\n",
    "}\n",
    "        </pre>\n",
    "        <p>The word <i>gjord</i> occurs three times in the text at positions 8600, 183039, and 220445, <i>uppklarnande</i>, once at\n",
    "            position 8617, and <i>stjärnor</i>, once at position 8641.\n",
    "        </p>"
   ]
  },
  {
   "cell_type": "markdown",
   "metadata": {},
   "source": [
    "#### Imports"
   ]
  },
  {
   "cell_type": "markdown",
   "metadata": {},
   "source": [
    "Some imports you could need. Add others as needed"
   ]
  },
  {
   "cell_type": "code",
   "execution_count": 1,
   "metadata": {},
   "outputs": [],
   "source": [
    "import regex as re\n",
    "import os\n",
    "import regex as re\n",
    "import pickle\n",
    "import sys\n",
    "import math\n",
    "import time"
   ]
  },
  {
   "cell_type": "markdown",
   "metadata": {},
   "source": [
    "#### Writing a tokenizer "
   ]
  },
  {
   "cell_type": "markdown",
   "metadata": {},
   "source": [
    "Write a Unicode regular expression to find words defined as sequences of letters."
   ]
  },
  {
   "cell_type": "code",
   "execution_count": 2,
   "metadata": {},
   "outputs": [],
   "source": [
    "# Write your regex here\n",
    "regex = '\\p{L}+'"
   ]
  },
  {
   "cell_type": "code",
   "execution_count": 3,
   "metadata": {},
   "outputs": [
    {
     "data": {
      "text/plain": [
       "['En',\n",
       " 'gång',\n",
       " 'hade',\n",
       " 'de',\n",
       " 'på',\n",
       " 'Mårbacka',\n",
       " 'en',\n",
       " 'barnpiga',\n",
       " 'som',\n",
       " 'hette',\n",
       " 'Back',\n",
       " 'Kajsa']"
      ]
     },
     "execution_count": 3,
     "metadata": {},
     "output_type": "execute_result"
    }
   ],
   "source": [
    "re.findall(regex, 'En gång hade de på Mårbacka en barnpiga, som hette Back-Kajsa')"
   ]
  },
  {
   "cell_type": "markdown",
   "metadata": {},
   "source": [
    "Using `regex`, write a function to tokenize a text. Return their positions."
   ]
  },
  {
   "cell_type": "code",
   "execution_count": 4,
   "metadata": {},
   "outputs": [],
   "source": [
    "# Write your code here\n",
    "def tokenize(string):\n",
    "    return re.findall(regex, string)"
   ]
  },
  {
   "cell_type": "code",
   "execution_count": 5,
   "metadata": {},
   "outputs": [
    {
     "data": {
      "text/plain": [
       "['En',\n",
       " 'gång',\n",
       " 'hade',\n",
       " 'de',\n",
       " 'på',\n",
       " 'Mårbacka',\n",
       " 'en',\n",
       " 'barnpiga',\n",
       " 'som',\n",
       " 'hette',\n",
       " 'Back',\n",
       " 'Kajsa']"
      ]
     },
     "execution_count": 5,
     "metadata": {},
     "output_type": "execute_result"
    }
   ],
   "source": [
    "tokens = tokenize('En gång hade de på Mårbacka en barnpiga, som hette Back-Kajsa.')\n",
    "list(tokens)"
   ]
  },
  {
   "cell_type": "markdown",
   "metadata": {},
   "source": [
    "#### Extracting indices"
   ]
  },
  {
   "cell_type": "markdown",
   "metadata": {},
   "source": [
    "Write a function to extract the indices from the list of tokens (words). Return a dictionary, where the keys will be the tokens (words), and the keys a list of positions."
   ]
  },
  {
   "cell_type": "code",
   "execution_count": 6,
   "metadata": {},
   "outputs": [],
   "source": [
    "# Write your code here\n",
    "def text_to_idx(tokens):\n",
    "    idx = {}\n",
    "    index = 0\n",
    "    \n",
    "    for word in tokens:\n",
    "        if word in idx:\n",
    "            idx[word] = idx[word] + [index]\n",
    "        else:\n",
    "            idx[word] = [index]\n",
    "        index = index + len(word);\n",
    "        \n",
    "    return idx\n",
    "            \n"
   ]
  },
  {
   "cell_type": "code",
   "execution_count": 7,
   "metadata": {},
   "outputs": [
    {
     "data": {
      "text/plain": [
       "{'en': [0, 22],\n",
       " 'gång': [2],\n",
       " 'hade': [6],\n",
       " 'de': [10],\n",
       " 'på': [12],\n",
       " 'mårbacka': [14],\n",
       " 'barnpiga': [24],\n",
       " 'som': [32],\n",
       " 'hette': [35],\n",
       " 'back': [40],\n",
       " 'kajsa': [44]}"
      ]
     },
     "execution_count": 7,
     "metadata": {},
     "output_type": "execute_result"
    }
   ],
   "source": [
    "tokens = tokenize('En gång hade de på Mårbacka en barnpiga, som hette Back-Kajsa.'.lower().strip())\n",
    "text_to_idx(tokens)"
   ]
  },
  {
   "cell_type": "markdown",
   "metadata": {},
   "source": [
    "#### Reading one file"
   ]
  },
  {
   "cell_type": "markdown",
   "metadata": {},
   "source": [
    "Read one file, _Mårbacka_, `marbacka.txt`, set it in lowercase, tokenize it, and index it. Call this index `idx`"
   ]
  },
  {
   "cell_type": "code",
   "execution_count": 8,
   "metadata": {},
   "outputs": [],
   "source": [
    "# Write your code here\n",
    "file = open('Selma/marbacka.txt')\n",
    "text = file.read().lower().strip()\n",
    "tokens = tokenize(text)\n",
    "idx = text_to_idx(tokens)\n",
    "\n",
    "\n"
   ]
  },
  {
   "cell_type": "code",
   "execution_count": 9,
   "metadata": {},
   "outputs": [
    {
     "data": {
      "text/plain": [
       "[13,\n",
       " 100,\n",
       " 587,\n",
       " 1331,\n",
       " 2032,\n",
       " 2613,\n",
       " 11850,\n",
       " 12079,\n",
       " 21874,\n",
       " 33120,\n",
       " 38608,\n",
       " 39649,\n",
       " 40943,\n",
       " 47262,\n",
       " 49789,\n",
       " 50982,\n",
       " 52758,\n",
       " 52875,\n",
       " 53252,\n",
       " 53272,\n",
       " 54387,\n",
       " 56035,\n",
       " 56645,\n",
       " 58281,\n",
       " 58367,\n",
       " 58659,\n",
       " 60202,\n",
       " 60413,\n",
       " 60616,\n",
       " 60914,\n",
       " 61139,\n",
       " 61259,\n",
       " 61763,\n",
       " 63382,\n",
       " 64332,\n",
       " 64509,\n",
       " 66411,\n",
       " 66745,\n",
       " 67115,\n",
       " 70710,\n",
       " 76318,\n",
       " 77467,\n",
       " 78876,\n",
       " 82513,\n",
       " 82694,\n",
       " 83033,\n",
       " 85421,\n",
       " 85755,\n",
       " 88667,\n",
       " 89356,\n",
       " 90365,\n",
       " 90821,\n",
       " 91015,\n",
       " 91439,\n",
       " 91587,\n",
       " 95705,\n",
       " 97982,\n",
       " 99230,\n",
       " 99332,\n",
       " 101061,\n",
       " 102796,\n",
       " 103535,\n",
       " 104246,\n",
       " 107509,\n",
       " 107724,\n",
       " 108276,\n",
       " 109301,\n",
       " 110443,\n",
       " 111718,\n",
       " 115168,\n",
       " 118809,\n",
       " 121081,\n",
       " 121726,\n",
       " 121962,\n",
       " 122319,\n",
       " 122717,\n",
       " 124042,\n",
       " 125368,\n",
       " 125588,\n",
       " 126413,\n",
       " 127157,\n",
       " 130148,\n",
       " 132021,\n",
       " 132181,\n",
       " 132625,\n",
       " 133591,\n",
       " 135474,\n",
       " 142662,\n",
       " 142970,\n",
       " 146136,\n",
       " 148633,\n",
       " 149794,\n",
       " 149884,\n",
       " 151523,\n",
       " 154256,\n",
       " 158914,\n",
       " 161923,\n",
       " 163077,\n",
       " 163545,\n",
       " 164730,\n",
       " 165242,\n",
       " 170744,\n",
       " 172699,\n",
       " 173882,\n",
       " 173995,\n",
       " 174277,\n",
       " 174540,\n",
       " 176130,\n",
       " 180332,\n",
       " 180408,\n",
       " 181336,\n",
       " 181864,\n",
       " 182408,\n",
       " 184186,\n",
       " 185582,\n",
       " 186179,\n",
       " 188743,\n",
       " 190049,\n",
       " 190411,\n",
       " 190883,\n",
       " 190956,\n",
       " 192406,\n",
       " 196438,\n",
       " 197537,\n",
       " 198037,\n",
       " 201518,\n",
       " 204554,\n",
       " 205660,\n",
       " 206297,\n",
       " 207486,\n",
       " 209763,\n",
       " 212234,\n",
       " 212525,\n",
       " 212976,\n",
       " 213347,\n",
       " 213939,\n",
       " 214459,\n",
       " 215186,\n",
       " 216483,\n",
       " 216945,\n",
       " 217372,\n",
       " 218327,\n",
       " 230551,\n",
       " 236125,\n",
       " 241346,\n",
       " 242305,\n",
       " 242675,\n",
       " 242816,\n",
       " 242969,\n",
       " 243160,\n",
       " 245823,\n",
       " 250354,\n",
       " 253260,\n",
       " 253852,\n",
       " 258768,\n",
       " 259013,\n",
       " 259412,\n",
       " 260571,\n",
       " 261535,\n",
       " 266152,\n",
       " 268543,\n",
       " 274921,\n",
       " 275487,\n",
       " 276044,\n",
       " 276155,\n",
       " 276569,\n",
       " 276787,\n",
       " 277110,\n",
       " 279365,\n",
       " 279559,\n",
       " 281090,\n",
       " 281269,\n",
       " 281468,\n",
       " 282072,\n",
       " 282782,\n",
       " 283640,\n",
       " 284457,\n",
       " 285708,\n",
       " 286962,\n",
       " 287583,\n",
       " 288052,\n",
       " 289556,\n",
       " 289815,\n",
       " 290169,\n",
       " 291083,\n",
       " 291571,\n",
       " 294927,\n",
       " 297583,\n",
       " 298955,\n",
       " 299568]"
      ]
     },
     "execution_count": 9,
     "metadata": {},
     "output_type": "execute_result"
    }
   ],
   "source": [
    "idx['mårbacka']"
   ]
  },
  {
   "cell_type": "markdown",
   "metadata": {},
   "source": [
    "#### Saving the index"
   ]
  },
  {
   "cell_type": "markdown",
   "metadata": {},
   "source": [
    "Save your index in a file so that you can reuse it. Use the pickel module."
   ]
  },
  {
   "cell_type": "code",
   "execution_count": 13,
   "metadata": {},
   "outputs": [],
   "source": [
    "# Write your code here\n",
    "pickle.dump(idx, open('marbacka.p','wb'))\n"
   ]
  },
  {
   "cell_type": "code",
   "execution_count": 15,
   "metadata": {
    "scrolled": true
   },
   "outputs": [],
   "source": [
    "# Write your code here\n",
    "idx = pickle.load(open('marbacka.p','rb'))"
   ]
  },
  {
   "cell_type": "code",
   "execution_count": 16,
   "metadata": {},
   "outputs": [
    {
     "data": {
      "text/plain": [
       "[13,\n",
       " 100,\n",
       " 587,\n",
       " 1331,\n",
       " 2032,\n",
       " 2613,\n",
       " 11850,\n",
       " 12079,\n",
       " 21874,\n",
       " 33120,\n",
       " 38608,\n",
       " 39649,\n",
       " 40943,\n",
       " 47262,\n",
       " 49789,\n",
       " 50982,\n",
       " 52758,\n",
       " 52875,\n",
       " 53252,\n",
       " 53272,\n",
       " 54387,\n",
       " 56035,\n",
       " 56645,\n",
       " 58281,\n",
       " 58367,\n",
       " 58659,\n",
       " 60202,\n",
       " 60413,\n",
       " 60616,\n",
       " 60914,\n",
       " 61139,\n",
       " 61259,\n",
       " 61763,\n",
       " 63382,\n",
       " 64332,\n",
       " 64509,\n",
       " 66411,\n",
       " 66745,\n",
       " 67115,\n",
       " 70710,\n",
       " 76318,\n",
       " 77467,\n",
       " 78876,\n",
       " 82513,\n",
       " 82694,\n",
       " 83033,\n",
       " 85421,\n",
       " 85755,\n",
       " 88667,\n",
       " 89356,\n",
       " 90365,\n",
       " 90821,\n",
       " 91015,\n",
       " 91439,\n",
       " 91587,\n",
       " 95705,\n",
       " 97982,\n",
       " 99230,\n",
       " 99332,\n",
       " 101061,\n",
       " 102796,\n",
       " 103535,\n",
       " 104246,\n",
       " 107509,\n",
       " 107724,\n",
       " 108276,\n",
       " 109301,\n",
       " 110443,\n",
       " 111718,\n",
       " 115168,\n",
       " 118809,\n",
       " 121081,\n",
       " 121726,\n",
       " 121962,\n",
       " 122319,\n",
       " 122717,\n",
       " 124042,\n",
       " 125368,\n",
       " 125588,\n",
       " 126413,\n",
       " 127157,\n",
       " 130148,\n",
       " 132021,\n",
       " 132181,\n",
       " 132625,\n",
       " 133591,\n",
       " 135474,\n",
       " 142662,\n",
       " 142970,\n",
       " 146136,\n",
       " 148633,\n",
       " 149794,\n",
       " 149884,\n",
       " 151523,\n",
       " 154256,\n",
       " 158914,\n",
       " 161923,\n",
       " 163077,\n",
       " 163545,\n",
       " 164730,\n",
       " 165242,\n",
       " 170744,\n",
       " 172699,\n",
       " 173882,\n",
       " 173995,\n",
       " 174277,\n",
       " 174540,\n",
       " 176130,\n",
       " 180332,\n",
       " 180408,\n",
       " 181336,\n",
       " 181864,\n",
       " 182408,\n",
       " 184186,\n",
       " 185582,\n",
       " 186179,\n",
       " 188743,\n",
       " 190049,\n",
       " 190411,\n",
       " 190883,\n",
       " 190956,\n",
       " 192406,\n",
       " 196438,\n",
       " 197537,\n",
       " 198037,\n",
       " 201518,\n",
       " 204554,\n",
       " 205660,\n",
       " 206297,\n",
       " 207486,\n",
       " 209763,\n",
       " 212234,\n",
       " 212525,\n",
       " 212976,\n",
       " 213347,\n",
       " 213939,\n",
       " 214459,\n",
       " 215186,\n",
       " 216483,\n",
       " 216945,\n",
       " 217372,\n",
       " 218327,\n",
       " 230551,\n",
       " 236125,\n",
       " 241346,\n",
       " 242305,\n",
       " 242675,\n",
       " 242816,\n",
       " 242969,\n",
       " 243160,\n",
       " 245823,\n",
       " 250354,\n",
       " 253260,\n",
       " 253852,\n",
       " 258768,\n",
       " 259013,\n",
       " 259412,\n",
       " 260571,\n",
       " 261535,\n",
       " 266152,\n",
       " 268543,\n",
       " 274921,\n",
       " 275487,\n",
       " 276044,\n",
       " 276155,\n",
       " 276569,\n",
       " 276787,\n",
       " 277110,\n",
       " 279365,\n",
       " 279559,\n",
       " 281090,\n",
       " 281269,\n",
       " 281468,\n",
       " 282072,\n",
       " 282782,\n",
       " 283640,\n",
       " 284457,\n",
       " 285708,\n",
       " 286962,\n",
       " 287583,\n",
       " 288052,\n",
       " 289556,\n",
       " 289815,\n",
       " 290169,\n",
       " 291083,\n",
       " 291571,\n",
       " 294927,\n",
       " 297583,\n",
       " 298955,\n",
       " 299568]"
      ]
     },
     "execution_count": 16,
     "metadata": {},
     "output_type": "execute_result"
    }
   ],
   "source": [
    "idx['mårbacka']"
   ]
  },
  {
   "cell_type": "markdown",
   "metadata": {},
   "source": [
    "### Reading the content of a folder"
   ]
  },
  {
   "cell_type": "markdown",
   "metadata": {},
   "source": [
    "<p>Write a function that reads all the files in a folder with a specific suffix (txt). You will need the Python\n",
    "            os package,\n",
    "            see <a href=\"https://docs.python.org/3/library/os.html\">https://docs.python.org/3/library/os.html</a>. You\n",
    "            will return the file names in a list.\n",
    "        </p>"
   ]
  },
  {
   "cell_type": "markdown",
   "metadata": {},
   "source": [
    "You can reuse this function:"
   ]
  },
  {
   "cell_type": "code",
   "execution_count": 28,
   "metadata": {},
   "outputs": [],
   "source": [
    "def get_files(dir, suffix):\n",
    "    \"\"\"\n",
    "    Returns all the files in a folder ending with suffix\n",
    "    :param dir:\n",
    "    :param suffix:\n",
    "    :return: the list of file names\n",
    "    \"\"\"\n",
    "    files = []\n",
    "    for file in os.listdir(dir):\n",
    "        if file.endswith(suffix):\n",
    "            files.append(file)\n",
    "    return files"
   ]
  },
  {
   "cell_type": "code",
   "execution_count": 27,
   "metadata": {},
   "outputs": [],
   "source": [
    "# Write your code here\n",
    "\n"
   ]
  },
  {
   "cell_type": "markdown",
   "metadata": {},
   "source": [
    "### Creating a master index"
   ]
  },
  {
   "cell_type": "markdown",
   "metadata": {},
   "source": [
    "<p>Complete your program with the creation of master index, where you will associate each word\n",
    "            of the corpus with the files, where it occur and its positions. (a posting list)\n",
    "        </p>\n",
    "        <p>Below is an except of the master index with the words <i>samlar</i> and <i>ände</i>:\n",
    "        </p>"
   ]
  },
  {
   "cell_type": "code",
   "execution_count": 19,
   "metadata": {},
   "outputs": [
    {
     "data": {
      "text/plain": [
       "{'samlar': {'troll.txt': [641880, 654233],\n",
       "  'nils.txt': [51805, 118943],\n",
       "  'osynliga.txt': [399121],\n",
       "  'gosta.txt': [313784, 409998, 538165]},\n",
       " 'ände': {'troll.txt': [39562, 650112],\n",
       "  'kejsaren.txt': [50171],\n",
       "  'marbacka.txt': [370324],\n",
       "  'nils.txt': [1794],\n",
       "  'osynliga.txt': [272144]}}"
      ]
     },
     "execution_count": 19,
     "metadata": {},
     "output_type": "execute_result"
    }
   ],
   "source": [
    "{'samlar':\n",
    "            {'troll.txt': [641880, 654233],\n",
    "            'nils.txt': [51805, 118943],\n",
    "            'osynliga.txt': [399121],\n",
    "            'gosta.txt': [313784, 409998, 538165]},\n",
    " 'ände':\n",
    "            {'troll.txt': [39562, 650112],\n",
    "            'kejsaren.txt': [50171],\n",
    "            'marbacka.txt': [370324],\n",
    "            'nils.txt': [1794],\n",
    "            'osynliga.txt': [272144]}\n",
    "}"
   ]
  },
  {
   "cell_type": "markdown",
   "metadata": {},
   "source": [
    "The word <i>samlar</i>, for instance, occurs three times in the gosta text at positions\n",
    "            313784, 409998, and 538165."
   ]
  },
  {
   "cell_type": "code",
   "execution_count": null,
   "metadata": {},
   "outputs": [],
   "source": [
    "# write your code here\n"
   ]
  },
  {
   "cell_type": "code",
   "execution_count": null,
   "metadata": {},
   "outputs": [],
   "source": [
    "master_index['samlar']"
   ]
  },
  {
   "cell_type": "code",
   "execution_count": null,
   "metadata": {},
   "outputs": [],
   "source": [
    "master_index['mårbacka']"
   ]
  },
  {
   "cell_type": "markdown",
   "metadata": {},
   "source": [
    "Save your master index in a file and read it again"
   ]
  },
  {
   "cell_type": "code",
   "execution_count": null,
   "metadata": {},
   "outputs": [],
   "source": [
    "# Write your code here\n"
   ]
  },
  {
   "cell_type": "code",
   "execution_count": null,
   "metadata": {},
   "outputs": [],
   "source": [
    "master_index['samlar']"
   ]
  },
  {
   "cell_type": "markdown",
   "metadata": {},
   "source": [
    "#### Concordances"
   ]
  },
  {
   "cell_type": "markdown",
   "metadata": {},
   "source": [
    "Write a function to extract the concordances of a word within a window of `window` characters"
   ]
  },
  {
   "cell_type": "code",
   "execution_count": null,
   "metadata": {},
   "outputs": [],
   "source": [
    "# Write your code here\n"
   ]
  },
  {
   "cell_type": "code",
   "execution_count": null,
   "metadata": {},
   "outputs": [],
   "source": [
    "concordance('samlar', master_index, corpus_files, 25)"
   ]
  },
  {
   "cell_type": "markdown",
   "metadata": {},
   "source": [
    "### Representing Documents with tf-idf"
   ]
  },
  {
   "cell_type": "markdown",
   "metadata": {},
   "source": [
    "<p>Once you have created the index, you will represent each document in your corpus as a word vector.\n",
    "            You will define the value of a word in a document with the tf-idf\n",
    "            metric. Tf will be the relative frequency of the term in the document and idf, the logarithm base 10 of the\n",
    "            inverse document\n",
    "            frequency.\n",
    "        </p>\n",
    "        <p>You have below the tf-idf values for a few words. In our example, the word <i>gås</i> has the value\n",
    "            0 in bannlyst.txt and the value 0.000101001964 in nils.txt\n",
    "        </p>\n",
    "        <pre>\n",
    "troll.txt\n",
    "\tkänna\t 0.0\n",
    "\tgås\t 0.0\n",
    "\tnils\t 2.148161748868631e-06\n",
    "\tet\t 0.0\n",
    "kejsaren.txt\n",
    "\tkänna\t 0.0\n",
    "\tgås\t 0.0\n",
    "\tnils\t 8.08284798629935e-06\n",
    "\tet\t 8.273225429362848e-05\n",
    "marbacka.txt\n",
    "\tkänna\t 0.0\n",
    "\tgås\t 0.0\n",
    "\tnils\t 7.582276564686669e-06\n",
    "\tet\t 9.70107989686256e-06\n",
    "herrgard.txt\n",
    "\tkänna\t 0.0\n",
    "\tgås\t 0.0\n",
    "\tnils\t 0.0\n",
    "\tet\t 0.0\n",
    "nils.txt\n",
    "\tkänna\t 0.0\n",
    "\tgås\t 0.00010100196417506702\n",
    "\tnils\t 0.00010164426900380124\n",
    "\tet\t 0.0\n",
    "osynliga.txt\n",
    "\tkänna\t 0.0\n",
    "\tgås\t 0.0\n",
    "\tnils\t 0.0\n",
    "\tet\t 0.0\n",
    "jerusalem.txt\n",
    "\tkänna\t 0.0\n",
    "\tgås\t 0.0\n",
    "\tnils\t 4.968292117670952e-06\n",
    "\tet\t 0.0\n",
    "bannlyst.txt\n",
    "\tkänna\t 0.0\n",
    "\tgås\t 0.0\n",
    "\tnils\t 0.0\n",
    "\tet\t 0.0\n",
    "gosta.txt\n",
    "\tkänna\t 0.0\n",
    "\tgås\t 0.0\n",
    "\tnils\t 0.0\n",
    "\tet\t 0.0\n",
    "        </pre>\n"
   ]
  },
  {
   "cell_type": "code",
   "execution_count": null,
   "metadata": {},
   "outputs": [],
   "source": [
    "# Write your code here\n"
   ]
  },
  {
   "cell_type": "code",
   "execution_count": null,
   "metadata": {},
   "outputs": [],
   "source": [
    "tfidf['troll.txt']['känna']"
   ]
  },
  {
   "cell_type": "code",
   "execution_count": null,
   "metadata": {},
   "outputs": [],
   "source": [
    "tfidf['troll.txt']['nils']"
   ]
  },
  {
   "cell_type": "markdown",
   "metadata": {},
   "source": [
    "### Comparing Documents"
   ]
  },
  {
   "cell_type": "markdown",
   "metadata": {},
   "source": [
    "Using the cosine similarity, compare all the pairs of documents with their tfidf representation and present\n",
    "            your results in a matrix. You will include this matrix in your report."
   ]
  },
  {
   "cell_type": "markdown",
   "metadata": {},
   "source": [
    "#### Cosine similarity"
   ]
  },
  {
   "cell_type": "markdown",
   "metadata": {},
   "source": [
    "Write a function computing the cosine similarity between two documents"
   ]
  },
  {
   "cell_type": "code",
   "execution_count": null,
   "metadata": {},
   "outputs": [],
   "source": [
    "# Write your code here\n"
   ]
  },
  {
   "cell_type": "markdown",
   "metadata": {},
   "source": [
    "#### Similarity matrix"
   ]
  },
  {
   "cell_type": "markdown",
   "metadata": {},
   "source": [
    "Compute the similarity matrix between the documents of the corpus"
   ]
  },
  {
   "cell_type": "code",
   "execution_count": null,
   "metadata": {},
   "outputs": [],
   "source": [
    "# Write your code here\n"
   ]
  },
  {
   "cell_type": "markdown",
   "metadata": {},
   "source": [
    "Give the name of the two novels that are the most similar."
   ]
  },
  {
   "cell_type": "code",
   "execution_count": null,
   "metadata": {},
   "outputs": [],
   "source": [
    "print(\"Most similar:\", most_sim_f1, most_sim_f2, \"Similarity:\", max_similarity)"
   ]
  },
  {
   "cell_type": "markdown",
   "metadata": {},
   "source": [
    "<h2>Reading</h2>"
   ]
  },
  {
   "cell_type": "markdown",
   "metadata": {},
   "source": [
    "<p>Read the text:\n",
    "            <i>Challenges in Building Large-Scale Information Retrieval Systems</i>\n",
    "            about the history of\n",
    "            <a href=\"https://research.google.com/people/jeff/WSDM09-keynote.pdf\">Google indexing</a>\n",
    "            by\n",
    "            <a href=\"https://research.google.com/pubs/jeff.html\">Jeff Dean</a>.\n",
    "            In your report, tell how your index encoding is related to what Google did.\n",
    "            You must identify the slide where you have the most similar indexing technique and write the\n",
    "            slide number in your report.\n",
    "        </p>"
   ]
  },
  {
   "cell_type": "code",
   "execution_count": null,
   "metadata": {},
   "outputs": [],
   "source": []
  }
 ],
 "metadata": {
  "kernelspec": {
   "display_name": "Python 3",
   "language": "python",
   "name": "python3"
  },
  "language_info": {
   "codemirror_mode": {
    "name": "ipython",
    "version": 3
   },
   "file_extension": ".py",
   "mimetype": "text/x-python",
   "name": "python",
   "nbconvert_exporter": "python",
   "pygments_lexer": "ipython3",
   "version": "3.8.3"
  }
 },
 "nbformat": 4,
 "nbformat_minor": 4
}
